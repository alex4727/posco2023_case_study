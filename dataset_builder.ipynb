{
 "cells": [
  {
   "cell_type": "code",
   "execution_count": 20,
   "metadata": {},
   "outputs": [],
   "source": [
    "import os\n",
    "import shutil\n",
    "import numpy as np\n",
    "\n",
    "places365_path = \"/root/data/posco_data/places365_standard/train\"\n",
    "places365_path_val = \"/root/data/posco_data/places365_standard/val\"\n",
    "new_folder = \"/root/data/posco_data/places10/\"\n",
    "\n",
    "classes = [\"airfield\", \"aquarium\", \"baseball_field\", \"basketball_court-indoor\", \"fire_station\", \"food_court\", \"highway\", \"restaurant_kitchen\", \"ski_resort\", \"water_park\"]\n",
    "len(classes)\n",
    "for cls in classes:\n",
    "    os.makedirs(os.path.join(new_folder, \"train\", cls), exist_ok=True)\n",
    "    os.makedirs(os.path.join(new_folder, \"val\", cls), exist_ok=True)\n",
    "    # copy files from places365 to new folder\n",
    "    for idx, file in enumerate(os.listdir(os.path.join(places365_path, cls))):\n",
    "        if idx >= 1000:\n",
    "            break\n",
    "        shutil.copy(os.path.join(places365_path, cls, file), os.path.join(new_folder, \"train\", cls, file))\n",
    "    for file in os.listdir(os.path.join(places365_path_val, cls)):\n",
    "        shutil.copy(os.path.join(places365_path_val, cls, file), os.path.join(new_folder, \"val\", cls, file))"
   ]
  },
  {
   "cell_type": "code",
   "execution_count": 1,
   "metadata": {},
   "outputs": [
    {
     "name": "stdout",
     "output_type": "stream",
     "text": [
      "airfield\n",
      "Class 0 done with 1000 images\n",
      "aquarium\n",
      "Class 1 done with 555 images\n",
      "baseball_field\n",
      "Class 2 done with 308 images\n",
      "basketball_court-indoor\n",
      "Class 3 done with 170 images\n",
      "fire_station\n",
      "Class 4 done with 94 images\n",
      "food_court\n",
      "Class 5 done with 52 images\n",
      "highway\n",
      "Class 6 done with 29 images\n",
      "restaurant_kitchen\n",
      "Class 7 done with 16 images\n",
      "ski_resort\n",
      "Class 8 done with 9 images\n",
      "water_park\n",
      "Class 9 done with 5 images\n"
     ]
    }
   ],
   "source": [
    "# make unbalanced version of places10\n",
    "# Code used to generate the dataset\n",
    "import numpy as np\n",
    "import os\n",
    "from PIL import Image\n",
    "import shutil\n",
    "\n",
    "cls_num = 10\n",
    "imb_type = 'exp'\n",
    "imb_factor = 0.005\n",
    "\n",
    "def get_img_num_per_cls(cls_num, imb_type, imb_factor):\n",
    "    img_max = 1000\n",
    "    img_num_per_cls = []\n",
    "    if imb_type == 'exp':\n",
    "        for cls_idx in range(cls_num):\n",
    "            num = img_max * (imb_factor**(cls_idx / (cls_num - 1.0)))\n",
    "            img_num_per_cls.append(int(num))\n",
    "    return img_num_per_cls\n",
    "\n",
    "img_num_per_cls = get_img_num_per_cls(cls_num, imb_type, imb_factor)\n",
    "\n",
    "main_dir = \"/root/data/posco_data/places10/train\"\n",
    "new_dir = \"/root/data/posco_data/places10_LT/train\"\n",
    "\n",
    "for i, cls in enumerate(sorted(os.listdir(main_dir))):\n",
    "    print(cls)\n",
    "    cls_dir = os.path.join(main_dir, cls)\n",
    "    new_cls_dir = os.path.join(new_dir, cls)\n",
    "    os.makedirs(new_cls_dir, exist_ok=True)\n",
    "    for j, img in enumerate(os.listdir(cls_dir)):\n",
    "        if j < img_num_per_cls[i]:\n",
    "            # copy file to new folder\n",
    "            shutil.copyfile(os.path.join(cls_dir, img), os.path.join(new_cls_dir, img))            \n",
    "    print(f\"Class {i} done with {len(os.listdir(new_cls_dir))} images\")"
   ]
  }
 ],
 "metadata": {
  "kernelspec": {
   "display_name": "sd1",
   "language": "python",
   "name": "python3"
  },
  "language_info": {
   "codemirror_mode": {
    "name": "ipython",
    "version": 3
   },
   "file_extension": ".py",
   "mimetype": "text/x-python",
   "name": "python",
   "nbconvert_exporter": "python",
   "pygments_lexer": "ipython3",
   "version": "3.8.10"
  },
  "orig_nbformat": 4
 },
 "nbformat": 4,
 "nbformat_minor": 2
}
